{
  "cells": [
    {
      "cell_type": "markdown",
      "metadata": {},
      "source": [
        "---\n",
        "title: Week 6 dan 7 - Code Exercise\n",
        "jupyter: python3\n",
        "format:\n",
        "  html:\n",
        "    toc: true\n",
        "---"
      ],
      "id": "dc0a8c88"
    },
    {
      "cell_type": "code",
      "metadata": {},
      "source": [
        "import pandas as pd\n",
        "import numpy as np\n",
        "\n",
        "# Create a function to read the data\n",
        "def read_data(fname):\n",
        "    data = pd.read_csv(fname)\n",
        "    print('Data shape raw               :', data.shape)\n",
        "    print('Number of duplicate          :', data.duplicated().sum())\n",
        "    data = data.drop_duplicates()\n",
        "    print('Data shape after dropping    :', data.shape)\n",
        "    print('Data shape final             :', data.shape)\n",
        "    return data\n",
        "\n",
        "# Load the dataset\n",
        "df = read_data('airbnb_european-cities.csv')\n",
        "df.head()"
      ],
      "id": "6ee8062c",
      "execution_count": null,
      "outputs": []
    },
    {
      "cell_type": "markdown",
      "metadata": {},
      "source": [
        "Tidak terdapat data duplikat pada dataset.\n",
        "\n",
        "## Data Exploration and Preprocessing\n",
        "\n",
        "### Target-Predictor Split\n"
      ],
      "id": "2a288b23"
    },
    {
      "cell_type": "code",
      "metadata": {},
      "source": [
        "def extractInputOutput(data,\n",
        "                       output_column_name):\n",
        "    \"\"\"\n",
        "    Fungsi untuk memisahkan data input (predictor) dan output (target)\n",
        "    :param data: <pandas dataframe> data seluruh sample\n",
        "    :param output_column_name: <string> nama kolom output\n",
        "    :return input_data: <pandas dataframe> data input\n",
        "    :return output_data: <pandas series> data output\n",
        "    \"\"\"\n",
        "    output_data = data[output_column_name]\n",
        "    input_data = data.drop(output_column_name,\n",
        "                           axis = 1)\n",
        "    \n",
        "    return input_data, output_data"
      ],
      "id": "c8a9b39e",
      "execution_count": null,
      "outputs": []
    },
    {
      "cell_type": "code",
      "metadata": {},
      "source": [
        "X, y = extractInputOutput(df, 'realSum')\n",
        "X.head()"
      ],
      "id": "463ac736",
      "execution_count": null,
      "outputs": []
    },
    {
      "cell_type": "code",
      "metadata": {},
      "source": [
        "y.head()"
      ],
      "id": "f20f92a0",
      "execution_count": null,
      "outputs": []
    },
    {
      "cell_type": "markdown",
      "metadata": {},
      "source": [
        "### Train-Test Split\n"
      ],
      "id": "e427bbd3"
    },
    {
      "cell_type": "code",
      "metadata": {},
      "source": [
        "# Import train-test splitting library dari sklearn (scikit learn)\n",
        "from sklearn.model_selection import train_test_split\n",
        "# Train test split\n",
        "X_train, X_test, y_train, y_test = train_test_split(X, y,\n",
        "                                                    test_size = 0.20,\n",
        "                                                    random_state = 123)"
      ],
      "id": "2bb02615",
      "execution_count": null,
      "outputs": []
    },
    {
      "cell_type": "code",
      "metadata": {},
      "source": [
        "X_train.shape, X_test.shape, y_train.shape, y_test.shape"
      ],
      "id": "42258fbf",
      "execution_count": null,
      "outputs": []
    },
    {
      "cell_type": "markdown",
      "metadata": {},
      "source": [
        "### Data Exploration (EDA)\n",
        "\n",
        "**Data Description**\n"
      ],
      "id": "2031e168"
    },
    {
      "cell_type": "code",
      "metadata": {},
      "source": [
        "y.describe().transpose()"
      ],
      "id": "9ea526dc",
      "execution_count": null,
      "outputs": []
    },
    {
      "cell_type": "code",
      "metadata": {},
      "source": [
        "# Buat kolom numerik (float64, int64)\n",
        "numerical_column = X_train.select_dtypes(include = ['float64', 'int64']).columns\n",
        "# Seleksi dataframe numerik\n",
        "X_train_num = X_train[numerical_column]\n",
        "X_train_num.describe().transpose()"
      ],
      "id": "7af2a7e0",
      "execution_count": null,
      "outputs": []
    },
    {
      "cell_type": "code",
      "metadata": {},
      "source": [
        "# Buat kolom kategorik (object, bool)\n",
        "categorical_column = X_train.select_dtypes(include = ['object', 'bool']).columns\n",
        "# Seleksi dataframe kategorik\n",
        "X_train_cat = X_train[categorical_column]\n",
        "X_train_cat.describe().transpose()"
      ],
      "id": "05530dc0",
      "execution_count": null,
      "outputs": []
    },
    {
      "cell_type": "markdown",
      "metadata": {},
      "source": [
        "**Missing Value**\n"
      ],
      "id": "9be81692"
    },
    {
      "cell_type": "code",
      "metadata": {},
      "source": [
        "# Cek missing value\n",
        "X_train.isnull().sum()"
      ],
      "id": "3325588f",
      "execution_count": null,
      "outputs": []
    },
    {
      "cell_type": "markdown",
      "metadata": {},
      "source": [
        "Tidak terdapat missing value pada dataset.\n",
        "\n",
        "**Distribution of Target Variable**\n"
      ],
      "id": "593002e9"
    },
    {
      "cell_type": "code",
      "metadata": {},
      "source": [
        "import matplotlib.pyplot as plt\n",
        "import seaborn as sns\n",
        "\n",
        "plt.figure(figsize = (10, 6))\n",
        "sns.histplot(y_train, kde = True)\n",
        "plt.title('Distribution of Target Variable')\n",
        "plt.show()"
      ],
      "id": "d1658dea",
      "execution_count": null,
      "outputs": []
    },
    {
      "cell_type": "code",
      "metadata": {},
      "source": [
        "# Boxplot\n",
        "\n",
        "plt.figure(figsize = (10, 6))\n",
        "sns.boxplot(y_train)\n",
        "plt.title('Boxplot of Target Variable')\n",
        "plt.show()"
      ],
      "id": "e0285d65",
      "execution_count": null,
      "outputs": []
    },
    {
      "cell_type": "markdown",
      "metadata": {},
      "source": [
        "Melalui density plot maupun boxplot di atas, terlihat bahwa sebenarnya sebagian besar data memiliki kisaran harga sewa tidak lebih dari 5.000 atau bahkan tidak lebih dari 2.500. Agar lebih memastikan, maka kita akan mengecek nilai kuantil-kuantil pada data misalkan untuk kuantil 90; 95; 99 dan 99,9.\n"
      ],
      "id": "2eb053ca"
    },
    {
      "cell_type": "code",
      "metadata": {},
      "source": [
        "# Mengecek nilai-nilai kuantil 90, 95, 99, 99.9\n",
        "print(\"Kuantil-90  :\", y_train.quantile(0.90))\n",
        "print(\"Kuantil-95  :\", y_train.quantile(0.95))\n",
        "print(\"Kuantil-99  :\", y_train.quantile(0.99))\n",
        "print(\"Kuantil-99.9:\", y_train.quantile(0.999))"
      ],
      "id": "50ab0733",
      "execution_count": null,
      "outputs": []
    },
    {
      "cell_type": "markdown",
      "metadata": {},
      "source": [
        "Nilai-nilai kuantil di atas menunjukkan harga sewa tertinggi pada batas-batas kuantil tersebut. Dari hasil tersebut kita dapatkan informasi bahwa 90% dari seluruh dataset kita memiliki harga sewa tidak lebih dari 501. Lebih lanjut, 95% memiliki harga sewa tidak lebih dari 661,99. Bahkan 99% memiliki harga sewa tidak lebih dari 1.160 dan 99,9% ternyata memiliki harga sewa tidak lebih dari 3.000.\n",
        "\n",
        "Melihat hasil ini maka harga sewa airbnb dengan nilai yang sangat tinggi mungkin tidak begitu banyak sehingga pada contoh ini akan kita lakukan pemangkasan data dan hanya mengambil 99% data saja (silahkan mencoba mengambil batasan lainnya yang dirasa tepat, misal gunakan 99,9% data). Artinya kita akan membuang 1% data dengan harga yang sangat tinggi, hal ini dilakukan agar model dapat bekerja lebih baik secara umum tanpa terganggu dengan nilai-nilai yang ekstrim namun sebenarnya merupakan kejadian yang sedikit.\n"
      ],
      "id": "ca5d2f65"
    },
    {
      "cell_type": "code",
      "metadata": {},
      "source": [
        "# Membuang data ekstrim\n",
        "# Merge X_train dan y_train\n",
        "data = pd.concat([X_train, y_train], axis = 1)\n",
        "\n",
        "# Membuang 1% data dengan harga tertinggi\n",
        "q_99 = data[\"realSum\"].quantile(0.99)\n",
        "data = data[data[\"realSum\"] <= q_99]"
      ],
      "id": "557ddf90",
      "execution_count": null,
      "outputs": []
    },
    {
      "cell_type": "code",
      "metadata": {},
      "source": [
        "plt.figure(figsize = (10, 6))\n",
        "sns.histplot(data[\"realSum\"], kde = True)\n",
        "plt.title('Distribution of Target Variable')\n",
        "plt.show()"
      ],
      "id": "d144cab1",
      "execution_count": null,
      "outputs": []
    },
    {
      "cell_type": "code",
      "metadata": {},
      "source": [
        "# Boxplot\n",
        "plt.figure(figsize = (10, 6))\n",
        "sns.boxplot(data[\"realSum\"])\n",
        "plt.title('Boxplot of Target Variable')\n",
        "plt.show()"
      ],
      "id": "165bc706",
      "execution_count": null,
      "outputs": []
    },
    {
      "cell_type": "markdown",
      "metadata": {},
      "source": [
        "Setelah dilakukan pemangkasan 1% data, kini dataset yang kita miliki sudah lebih merata meskipun masih terdapat kecenderungan menjulur ke arah kanan. Namun kondisi ini bisa dikatakan jauh lebih baik dibandingkan sebelumnya.\n"
      ],
      "id": "4434e1a8"
    },
    {
      "cell_type": "code",
      "metadata": {},
      "source": [
        "# Splitting data after trimming\n",
        "X_train = data.drop('realSum', axis = 1)\n",
        "y_train = data['realSum']\n",
        "X_train.shape, y_train.shape"
      ],
      "id": "b6337d41",
      "execution_count": null,
      "outputs": []
    },
    {
      "cell_type": "markdown",
      "metadata": {},
      "source": [
        "**Correlation Matrix**\n"
      ],
      "id": "5be037bf"
    },
    {
      "cell_type": "code",
      "metadata": {},
      "source": [
        "# Menghitung matriks korelasi untuk peubah numerik\n",
        "corr_matrix = data.select_dtypes(include=['number']).corr()\n",
        "corr_matrix = round(corr_matrix, 3)\n",
        "\n",
        "# visualisasi matriks korelasi dengan heatmap\n",
        "mask = np.triu(np.ones_like(corr_matrix, dtype=bool))\n",
        "cmap = sns.diverging_palette(230, 20, as_cmap=True)\n",
        "sns.heatmap(corr_matrix, annot=True, mask=mask,\n",
        "            annot_kws={\"fontsize\": 8}, linewidths=0.5, \n",
        "            square=True, cmap=cmap)"
      ],
      "id": "5050fb24",
      "execution_count": null,
      "outputs": []
    },
    {
      "cell_type": "markdown",
      "metadata": {},
      "source": [
        "Melihat dari matriks korelasi di atas, tidak begitu terlihat fitur-fitur yang memiliki korelasi tinggi dengan realSum. Dua fitur dengan korelasi yang lumayan adalah `person_capicity` dan `bedrooms`. Kedua fitur tersebut cukup wajar memiliki nilai yang lebih tinggi dibandingkan lainnya, dimana memang pada umumnya semakin banyak kapasitas orang yang bisa menginap serta semakin banyak jumlah kamar tidur maka harga sewa cenderung lebih tinggi.\n",
        "\n",
        "**Prediktor Kategorik Vs Target**\n"
      ],
      "id": "4c36cb38"
    },
    {
      "cell_type": "code",
      "metadata": {},
      "source": [
        "fig, axes = plt.subplots(4, 1, figsize=(8, 8), sharex=False)\n",
        "\n",
        "sns.boxplot(data=data, x=\"realSum\", y=\"room_type\", linewidth=1,\n",
        "            ax=axes[0], orient=\"horizontal\", fliersize=1.5)\n",
        "\n",
        "sns.boxplot(data=data, x=\"realSum\", y=\"host_is_superhost\", linewidth=1,\n",
        "            ax=axes[1], orient=\"horizontal\", fliersize=1.5)\n",
        "\n",
        "sns.boxplot(data=data, x=\"realSum\", y=\"weekends\", linewidth=1,\n",
        "            ax=axes[2], orient=\"horizontal\", fliersize=1.5)\n",
        "\n",
        "sns.boxplot(data=data, x=\"city\", y=\"realSum\", linewidth=1,\n",
        "            ax=axes[3], fliersize=1.5)\n",
        "\n",
        "fig.tight_layout()\n",
        "plt.show()"
      ],
      "id": "c42dad94",
      "execution_count": null,
      "outputs": []
    },
    {
      "cell_type": "markdown",
      "metadata": {},
      "source": [
        "Jika melihat boxplot di atas, dapat diduga bahwa fitur `room_type` dan `city` memiliki sebaran yang berbeda untuk setiap kategorinya. Misalkan pada fitur `room_type`, kategori \"Entire home/apt\" cenderung memiliki harga yang lebih tinggi. Selanjutnya diikuti oleh kategori \"Private room\" dengan harga yang lebih rendah serta kategori \"Shared room\" cenderung memiliki harga yang paling rendah.\n",
        "\n",
        "Adapun untuk fitur `city`, terlihat bahwa kota Amsterdam memiliki kecenderungan harga yang lebih tinggi, kemudian diikuti oleh Paris dan London. Untuk kota-kota lainnya harga sewa umumnya lebih rendah dari ketiga kota tersebut.\n",
        "\n",
        "Sementara itu, fitur `host_is_superhost` maupun `weekends` tampaknya tidak begitu memiliki perbedaan pada setiap kategorinya.\n",
        "\n",
        "### Categorical Encoding\n",
        "\n",
        "Terdapat fitur kategorik yang perlu diencode, yaitu `room_type` dan `city`.\n",
        "Namun, sepertinya `room_type` sudah  di encode dengan menggunakan one-hot encoding menjadi `room_shared` dan `room_private`. Sehingga kita hanya perlu drop kolom `room_type` dan melakukan one-hot encoding pada kolom `city`.\n"
      ],
      "id": "db0e0f22"
    },
    {
      "cell_type": "code",
      "metadata": {},
      "source": [
        "# Drop kolom room_type\n",
        "X_train = X_train.drop('room_type', axis = 1)\n",
        "X_train.head()"
      ],
      "id": "55ed7a43",
      "execution_count": null,
      "outputs": []
    },
    {
      "cell_type": "code",
      "metadata": {},
      "source": [
        "# One Hot Encoding\n",
        "X_train = pd.get_dummies(X_train, columns = ['city'], drop_first = True)\n",
        "X_train.head()"
      ],
      "id": "544a08b7",
      "execution_count": null,
      "outputs": []
    },
    {
      "cell_type": "code",
      "metadata": {},
      "source": [
        "X_train.shape"
      ],
      "id": "e2fcdd77",
      "execution_count": null,
      "outputs": []
    },
    {
      "cell_type": "markdown",
      "metadata": {},
      "source": [
        "### Standardization Numerical Features\n"
      ],
      "id": "cd09e25c"
    },
    {
      "cell_type": "code",
      "metadata": {},
      "source": [
        "from sklearn.preprocessing import StandardScaler\n",
        "X_train_num = X_train.select_dtypes(include = ['float64', 'int64'])\n",
        "scaler = StandardScaler()\n",
        "X_train_num_scaled = scaler.fit_transform(X_train_num)\n",
        "X_train_num_scaled = pd.DataFrame(X_train_num_scaled, columns = X_train_num.columns)\n",
        "X_train_num_scaled.head()"
      ],
      "id": "78c29240",
      "execution_count": null,
      "outputs": []
    },
    {
      "cell_type": "code",
      "metadata": {},
      "source": [
        "X_train_num_scaled.shape"
      ],
      "id": "a95b74bc",
      "execution_count": null,
      "outputs": []
    },
    {
      "cell_type": "code",
      "metadata": {},
      "source": [
        "# Menggabungkan kembali data numerik dan kategorik\n",
        "X_train = pd.concat([X_train_num_scaled.reset_index(drop=True), X_train.drop(X_train_num.columns, axis=1).reset_index(drop=True)], axis=1)\n",
        "X_train.head()"
      ],
      "id": "96ebe5c3",
      "execution_count": null,
      "outputs": []
    },
    {
      "cell_type": "code",
      "metadata": {},
      "source": [
        "X_train.shape"
      ],
      "id": "4619477b",
      "execution_count": null,
      "outputs": []
    },
    {
      "cell_type": "markdown",
      "metadata": {},
      "source": [
        "** Log Transformation for Target Variable **\n"
      ],
      "id": "6a78344b"
    },
    {
      "cell_type": "code",
      "metadata": {},
      "source": [
        "y_train = np.log1p(y_train)"
      ],
      "id": "a188780b",
      "execution_count": null,
      "outputs": []
    },
    {
      "cell_type": "markdown",
      "metadata": {},
      "source": [
        "### Data Preprocessing Function for Test Data\n"
      ],
      "id": "9e596a36"
    },
    {
      "cell_type": "code",
      "metadata": {},
      "source": [
        "def preprocess_data(data, scaler, numerical_columns):\n",
        "    \"\"\"\n",
        "    Fungsi untuk melakukan preprocessing data test\n",
        "    :param data: <pandas dataframe> data test\n",
        "    :param scaler: <sklearn.preprocessing> object scaler\n",
        "    :param numerical_columns: <list> list nama kolom numerik\n",
        "    :return data_preprocessed: <pandas dataframe> data test yang sudah dipreprocessing\n",
        "    \"\"\"\n",
        "    # Drop kolom room_type\n",
        "    data = data.drop('room_type', axis = 1)\n",
        "    \n",
        "    # One Hot Encoding\n",
        "    data = pd.get_dummies(data, columns = ['city'], drop_first = True)\n",
        "    \n",
        "    # Standardization\n",
        "    data_num = data[numerical_columns]\n",
        "    data_num_scaled = scaler.transform(data_num)\n",
        "    data_num_scaled = pd.DataFrame(data_num_scaled, columns = data_num.columns)\n",
        "\n",
        "    # Menggabungkan kembali data numerik dan kategorik\n",
        "    data_preprocessed = pd.concat([data_num_scaled.reset_index(drop=True), data.drop(data_num.columns, axis=1).reset_index(drop=True)], axis=1)\n",
        "\n",
        "    return data_preprocessed"
      ],
      "id": "311047a4",
      "execution_count": null,
      "outputs": []
    },
    {
      "cell_type": "code",
      "metadata": {},
      "source": [
        "X_test = preprocess_data(X_test, scaler, X_train_num.columns)"
      ],
      "id": "332bceac",
      "execution_count": null,
      "outputs": []
    },
    {
      "cell_type": "code",
      "metadata": {},
      "source": [
        "y_test = np.log1p(y_test)"
      ],
      "id": "e6fdd54f",
      "execution_count": null,
      "outputs": []
    },
    {
      "cell_type": "markdown",
      "metadata": {},
      "source": [
        "## Training a Machine Learning Models\n",
        "\n",
        "### Model Decision Tree Regressor Tanpa Hyperparameter Tuning\n"
      ],
      "id": "7bbf293b"
    },
    {
      "cell_type": "code",
      "metadata": {},
      "source": [
        "from sklearn.tree import DecisionTreeRegressor\n",
        "from sklearn.metrics import mean_squared_error\n",
        "\n",
        "model_dt = DecisionTreeRegressor(random_state = 123)\n",
        "model_dt.fit(X_train, y_train)"
      ],
      "id": "36ee2dca",
      "execution_count": null,
      "outputs": []
    },
    {
      "cell_type": "markdown",
      "metadata": {},
      "source": [
        "### Model Random Forest Regressor Tanpa Hyperparameter Tuning\n"
      ],
      "id": "122d7731"
    },
    {
      "cell_type": "code",
      "metadata": {},
      "source": [
        "from sklearn.ensemble import RandomForestRegressor\n",
        "\n",
        "# Membuat model Random Forest Regressor\n",
        "model_rf = RandomForestRegressor(random_state=123)\n",
        "model_rf.fit(X_train, y_train)"
      ],
      "id": "8b927abc",
      "execution_count": null,
      "outputs": []
    },
    {
      "cell_type": "markdown",
      "metadata": {},
      "source": [
        "### Model Decision Tree Regressor dengan Hyperparameter Tuning\n"
      ],
      "id": "25e8bccd"
    },
    {
      "cell_type": "code",
      "metadata": {},
      "source": [
        "from sklearn.model_selection import GridSearchCV\n",
        "param_grid = {\n",
        "    'max_depth': [5, 10, 15, 20, 25],\n",
        "    'min_samples_split': [2, 5, 10, 15, 100],\n",
        "    'min_samples_leaf': [1, 2, 5, 10, 15],\n",
        "    'max_features' : [5, 7, 10, 15, 21],\n",
        "}                       "
      ],
      "id": "c613fff1",
      "execution_count": null,
      "outputs": []
    },
    {
      "cell_type": "markdown",
      "metadata": {},
      "source": [
        "Pamanfaatan `GridSearchCV` untuk mencari parameter terbaik pada model Decision Tree Regressor. Detil hyperparameter yang dimiliki oleh model Decision Tree Regressor dapat dilihat pada [dokumentasi](https://scikit-learn.org/stable/modules/generated/sklearn.tree.DecisionTreeRegressor.html).\n",
        "\n",
        "Atau dapat menggunakan fungsi `get_params()` untuk mengetahui apa saja hyperparameter yang dimiliki oleh model.\n"
      ],
      "id": "35007e17"
    },
    {
      "cell_type": "code",
      "metadata": {},
      "source": [
        "# Tunjukan apa saja hyperparameter yang bisa digunakan\n",
        "model_dt.get_params()"
      ],
      "id": "f644e287",
      "execution_count": null,
      "outputs": []
    },
    {
      "cell_type": "markdown",
      "metadata": {},
      "source": [
        "Hyperparameter yang akan di tuning adalah `max_depth`, `min_samples_split`, `min_samples_leaf`, dan `max_features`.\n",
        "\n",
        "Keterangan:\n",
        "\n",
        "- `max_depth` : Maximum depth of the tree.\n",
        "- `min_samples_split` : The minimum number of samples required to split an internal node.\n",
        "- `min_samples_leaf` : The minimum number of samples required to be at a leaf node.\n",
        "- `max_features` : The number of features to consider when looking for the best split.\n"
      ],
      "id": "c2518ef2"
    },
    {
      "cell_type": "code",
      "metadata": {},
      "source": [
        "model_df_cv = GridSearchCV(DecisionTreeRegressor(random_state = 123), \n",
        "                            param_grid, \n",
        "                            scoring= 'neg_mean_squared_error',\n",
        "                            cv = 10, \n",
        "                            n_jobs = -1)\n",
        "# n_jobs = -1 untuk menggunakan semua core CPU\n",
        "\n",
        "model_df_cv.fit(X_train, y_train)     "
      ],
      "id": "a1ad16e5",
      "execution_count": null,
      "outputs": []
    },
    {
      "cell_type": "code",
      "metadata": {},
      "source": [
        "# Best parameter\n",
        "model_df_cv.best_params_"
      ],
      "id": "335f1ac5",
      "execution_count": null,
      "outputs": []
    },
    {
      "cell_type": "markdown",
      "metadata": {},
      "source": [
        "### Model Random Forest Regressor dengan Hyperparameter Tuning\n"
      ],
      "id": "d05023a3"
    },
    {
      "cell_type": "code",
      "metadata": {},
      "source": [
        "param_grid_rf = {\n",
        "    'n_estimators': [50, 100, 200],\n",
        "    'max_depth': [5, 10, 15, 20, None],\n",
        "    'min_samples_split': [2, 5, 10],\n",
        "    'min_samples_leaf': [1, 2, 4],\n",
        "    'max_features': ['auto', 'sqrt', 'log2']\n",
        "}"
      ],
      "id": "0c42761f",
      "execution_count": null,
      "outputs": []
    },
    {
      "cell_type": "code",
      "metadata": {},
      "source": [
        "modell_rf_cv = GridSearchCV(RandomForestRegressor(random_state=123), \n",
        "               param_grid_rf, \n",
        "               scoring='neg_mean_squared_error', \n",
        "               cv=5, \n",
        "               n_jobs=-1)\n",
        "modell_rf_cv.fit(X_train, y_train)"
      ],
      "id": "3395917e",
      "execution_count": null,
      "outputs": []
    },
    {
      "cell_type": "code",
      "metadata": {},
      "source": [
        "# Best parameter\n",
        "modell_rf_cv.best_params_"
      ],
      "id": "a672aac1",
      "execution_count": null,
      "outputs": []
    },
    {
      "cell_type": "markdown",
      "metadata": {},
      "source": [
        "## Evaluasi Model\n"
      ],
      "id": "513d53b9"
    },
    {
      "cell_type": "code",
      "metadata": {},
      "source": [
        "y_pred_dt = model_dt.predict(X_test)\n",
        "y_pred_dt_cv = model_df_cv.predict(X_test)\n",
        "\n",
        "y_pred_rf = model_rf.predict(X_test)\n",
        "y_pred_rf_cv = modell_rf_cv.predict(X_test)\n",
        "\n",
        "mse_dt = mean_squared_error(y_test, y_pred_dt)\n",
        "mse_dt_cv = mean_squared_error(y_test, y_pred_dt_cv)\n",
        "\n",
        "mse_rf = mean_squared_error(y_test, y_pred_rf)\n",
        "mse_rf_cv = mean_squared_error(y_test, y_pred_rf_cv)\n",
        "\n",
        "print('MSE Decision Tree Regressor (Tanpa Hyperparameter Tuning) :', round(mse_dt, 3))\n",
        "print('MSE Decision Tree Regressor (Dengan Hyperparameter Tuning):', round(mse_dt_cv, 3))\n",
        "print('MSE Random Forest Regressor (Tanpa Hyperparameter Tuning) :', round(mse_rf, 3))\n",
        "print('MSE Random Forest Regressor (Dengan Hyperparameter Tuning):', round(mse_rf_cv, 3))"
      ],
      "id": "f06b93da",
      "execution_count": null,
      "outputs": []
    },
    {
      "cell_type": "markdown",
      "metadata": {},
      "source": [
        "Hasi evaluasi model menunjukkan bahwa model Decision Tree Regressor dengan hyperparameter tuning relatif tidak jauh berbeda dengan model Decision Tree Regressor tanpa hyperparameter tuning, bahkan sedikt lebih buruk. Hal ini bisa saja terjadi karena model yang kita gunakan sudah cukup baik tanpa perlu melakukan tuning lebih lanjut. Namun, kita tidak bisa mengetahui secara pasti tanpa melakukan tuning lebih lanjut atau menggunakan model lainnya.\n"
      ],
      "id": "8148e671"
    }
  ],
  "metadata": {
    "kernelspec": {
      "name": "python3",
      "language": "python",
      "display_name": "Python 3 (ipykernel)",
      "path": "C:\\Users\\derik\\AppData\\Roaming\\Python\\share\\jupyter\\kernels\\python3"
    }
  },
  "nbformat": 4,
  "nbformat_minor": 5
}