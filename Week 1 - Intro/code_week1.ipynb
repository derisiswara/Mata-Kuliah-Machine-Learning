{
  "cells": [
    {
      "cell_type": "markdown",
      "metadata": {},
      "source": [
        "# Week1: Preview python\n",
        "## Vektor\n",
        "\n",
        "### Tinjauan Singkat\n",
        "\n",
        "-   Sebuah **vektor** adalah daftar bilangan yang berurut (terurut).\\\n",
        "-   Ukuran (size atau dimensi) dari sebuah vektor adalah jumlah elemen yang ada di dalamnya.\\\n",
        "-   Elemen vektor dapat diakses menggunakan indeks tertentu, misalnya $x_2$ merujuk pada elemen ke-2 dari vektor $\\mathbf{x}$.\n",
        "\n",
        "Contoh vektor:\n",
        "\n",
        "$$\n",
        "\\mathbf{x} = [10, 32, 2, -21, 5.5]\n",
        "$$\n",
        "\n",
        "-   Ukuran vektor ini adalah 5.\\\n",
        "-   Jika kita ingin mengakses elemen ke-2, maka \\$ x_2 = 32 \\$.\n",
        "\n",
        "### Operasi Vektor\n",
        "\n",
        "1.  **Penjumlahan/Pengurangan Vektor**\\\n",
        "    Operasi ini dilakukan secara *element-wise*, artinya elemen pertama dengan elemen pertama, elemen kedua dengan elemen kedua, dan seterusnya. Misalnya:\n",
        "\n",
        "    $$\n",
        "    \\mathbf{x} + \\mathbf{y} \n",
        "    = \\begin{bmatrix} 1 \\\\ 2 \\\\ 3 \\\\ 4 \\end{bmatrix}\n",
        "    + \\begin{bmatrix} 4 \\\\ 5 \\\\ 6 \\\\ 7 \\end{bmatrix}\n",
        "    = \\begin{bmatrix} 5 \\\\ 7 \\\\ 9 \\\\ 11 \\end{bmatrix}\n",
        "    $$\n",
        "\n",
        "2.  **Perkalian Vektor dengan Skalar**\\\n",
        "    Jika $\\alpha$ adalah sebuah bilangan (skalar), dan $\\mathbf{x}$ adalah sebuah vektor, maka:\n",
        "\n",
        "    $$\n",
        "    \\alpha \\mathbf{x} \n",
        "    = 0.5 \\begin{bmatrix}1 \\\\ 2 \\\\ 3 \\end{bmatrix}\n",
        "    = \\begin{bmatrix}0.5 \\\\ 1.0 \\\\ 1.5 \\end{bmatrix}\n",
        "    $$\n",
        "\n",
        "### Vektor dengan NumPy\n",
        "\n",
        "| Sintaks | Deskripsi | Contoh Penggunaan |\n",
        "|:--:|:---|:---|\n",
        "| `np.array()` | Membuat sebuah vektor (array) | `np.array([1, 2, 3])` |\n",
        "| `np.shape()` | Menampilkan ukuran/bentuk (shape) dari sebuah array | `np.shape(a)` |\n",
        "| `a[i]` | Mengakses elemen ke-`i` vektor `a` | `a[i]` |\n",
        "| `x + y` | Menjumlahkan dua vektor dengan panjang yang sama | `x + y` |\n",
        "| `a * x` | Mengalikan skalar `a` dengan vektor `x` | `a * x` |\n",
        "\n",
        "### **Latihan**\n",
        "\n",
        "1.  Buat vektor $\\mathbf{x} = [1, 2, 3, 4]$ dengan NumPy.\\"
      ]
    },
    {
      "cell_type": "code",
      "execution_count": null,
      "metadata": {},
      "outputs": [],
      "source": []
    },
    {
      "cell_type": "code",
      "execution_count": null,
      "metadata": {},
      "outputs": [],
      "source": []
    },
    {
      "cell_type": "markdown",
      "metadata": {},
      "source": [
        "2.  Cari ukuran (size) dari vektor $\\mathbf{x}$.\\"
      ]
    },
    {
      "cell_type": "code",
      "execution_count": null,
      "metadata": {},
      "outputs": [],
      "source": []
    },
    {
      "cell_type": "code",
      "execution_count": null,
      "metadata": {},
      "outputs": [],
      "source": []
    },
    {
      "cell_type": "markdown",
      "metadata": {},
      "source": [
        "3.  Dapatkan elemen $x_3$ dari $\\mathbf{x}$.\\"
      ]
    },
    {
      "cell_type": "code",
      "execution_count": null,
      "metadata": {},
      "outputs": [],
      "source": []
    },
    {
      "cell_type": "markdown",
      "metadata": {},
      "source": [
        "Ingat, dalam Python (termasuk ketika menggunakan NumPy), indeks array (list, tuple, dan struktur data sejenis) dimulai dari 0. Sehingga:\n",
        "\n",
        "-   Elemen pertama ada pada indeks 0\n",
        "-   Elemen kedua ada pada indeks 1\n",
        "-   Dan seterusnya.\n",
        "\n",
        "4.  Dapatkan potongan vektor $\\mathbf{x}_{1:3}$ (Gunakan *slicing* seperti array).\\"
      ]
    },
    {
      "cell_type": "code",
      "execution_count": null,
      "metadata": {},
      "outputs": [],
      "source": []
    },
    {
      "cell_type": "code",
      "execution_count": null,
      "metadata": {},
      "outputs": [],
      "source": []
    },
    {
      "cell_type": "code",
      "execution_count": null,
      "metadata": {},
      "outputs": [],
      "source": []
    },
    {
      "cell_type": "markdown",
      "metadata": {},
      "source": [
        "5.  Jumlahkan vektor $\\mathbf{x}$ dan $\\mathbf{y}$ (menggunakan NumPy).\\\n",
        "    $$\n",
        "    \\mathbf{x} = [1, 2, 3, 4]  \\quad;\\quad \n",
        "    \\mathbf{y} = [5, 6, 7, 8]\n",
        "    $$"
      ]
    },
    {
      "cell_type": "code",
      "execution_count": null,
      "metadata": {},
      "outputs": [],
      "source": []
    },
    {
      "cell_type": "code",
      "execution_count": null,
      "metadata": {},
      "outputs": [],
      "source": []
    },
    {
      "cell_type": "markdown",
      "metadata": {},
      "source": [
        "6.  Jumlahkan vektor $\\mathbf{x}$ dan $\\mathbf{y}$ (secara manual).\\\n",
        "    \\$\\$ \\mathbf{x} = \\[1, 2, 3, 4\\] \\quad;\\quad\n",
        "\n",
        "    \\mathbf{y} = \\[5, 6, 7, 8\\] \\$\\$"
      ]
    },
    {
      "cell_type": "code",
      "execution_count": null,
      "metadata": {},
      "outputs": [],
      "source": []
    },
    {
      "cell_type": "markdown",
      "metadata": {},
      "source": [
        "7.  Jumlahkan vektor $\\mathbf{v}$ dan $\\mathbf{x}$.\\\n",
        "    $$\n",
        "    \\mathbf{v} = [1, 2] \\quad;\\quad\n",
        "    \\mathbf{x} = [1, 2, 3, 4]\n",
        "    $$"
      ]
    },
    {
      "cell_type": "code",
      "execution_count": null,
      "metadata": {},
      "outputs": [],
      "source": []
    },
    {
      "cell_type": "markdown",
      "metadata": {},
      "source": [
        "8.  Kalikan vektor $\\mathbf{x}$ dengan skalar $\\alpha$ (menggunakan NumPy).\\\n",
        "    $$\n",
        "    \\mathbf{x} = [1, 2, 3, 4] \\quad;\\quad\n",
        "    \\alpha = 0.5\n",
        "    $$"
      ]
    },
    {
      "cell_type": "code",
      "execution_count": null,
      "metadata": {},
      "outputs": [],
      "source": []
    },
    {
      "cell_type": "markdown",
      "metadata": {},
      "source": [
        "9.  Kalikan vektor $\\mathbf{x}$ dengan skalar $\\alpha$ (secara manual).\\\n",
        "    $$\n",
        "    \\mathbf{x} = [1, 2, 3, 4] \\quad;\\quad\n",
        "    \\alpha = 0.5\n",
        "    $$"
      ]
    },
    {
      "cell_type": "code",
      "execution_count": null,
      "metadata": {},
      "outputs": [],
      "source": []
    },
    {
      "cell_type": "markdown",
      "metadata": {},
      "source": [
        "10. Temukan **rata-rata (mean)** dari vektor $\\mathbf{x}$ (secara manual).\\\n",
        "    $$\n",
        "    \\mathbf{x} = [1, 2, 3, 4, 5]\n",
        "    $$"
      ]
    },
    {
      "cell_type": "code",
      "execution_count": null,
      "metadata": {},
      "outputs": [],
      "source": []
    },
    {
      "cell_type": "code",
      "execution_count": null,
      "metadata": {},
      "outputs": [],
      "source": []
    },
    {
      "cell_type": "code",
      "execution_count": null,
      "metadata": {},
      "outputs": [],
      "source": []
    },
    {
      "cell_type": "markdown",
      "metadata": {},
      "source": [
        "11. Temukan **simpangan baku (standard deviation)** dari vektor $\\mathbf{x}$ (secara manual).\n",
        "\n",
        "    **Catatan**\n",
        "\n",
        "    -   Rumus simpangan baku: $$\n",
        "        \\text{std}(x) = \\sqrt{\\frac{1}{n-1} \\sum_{i=1}^{n} (x_i - \\mu)^2}\n",
        "        $$\n",
        "    -   $\\mu$ adalah mean dari data, dan $n$ adalah panjang data."
      ]
    },
    {
      "cell_type": "code",
      "execution_count": null,
      "metadata": {},
      "outputs": [],
      "source": []
    },
    {
      "cell_type": "code",
      "execution_count": null,
      "metadata": {},
      "outputs": [],
      "source": []
    },
    {
      "cell_type": "code",
      "execution_count": null,
      "metadata": {},
      "outputs": [],
      "source": []
    },
    {
      "cell_type": "code",
      "execution_count": null,
      "metadata": {},
      "outputs": [],
      "source": []
    },
    {
      "cell_type": "markdown",
      "metadata": {},
      "source": [
        "12. **Standarisasi** vektor $\\mathbf{x}$.\\\n",
        "    $$\n",
        "    \\mathbf{x} = [1, 2, 3, 4, 5, 6, 7, 8, 9, 10]\n",
        "    $$\n",
        "\n",
        "**Catatan**\n",
        "\n",
        "-   Standarisasi adalah proses umum dalam *feature engineering* pada pemodelan *machine learning*.\\\n",
        "\n",
        "    -   Rumus standarisasi:\n",
        "\n",
        "    $$\n",
        "      x^{\\text{std}}_i = \\frac{x_i - \\mu}{\\sigma}\n",
        "      $$\n",
        "\n",
        "di mana $\\mu$ dan $\\sigma$ masing-masing adalah rata-rata dan simpangan baku dari data.\\\n",
        "\n",
        "-   Gunakan `np.mean(...)` dan `np.std(...)` untuk menemukan $\\mu$ dan $\\sigma$."
      ]
    },
    {
      "cell_type": "code",
      "execution_count": null,
      "metadata": {},
      "outputs": [],
      "source": []
    },
    {
      "cell_type": "code",
      "execution_count": null,
      "metadata": {},
      "outputs": [],
      "source": []
    },
    {
      "cell_type": "markdown",
      "metadata": {},
      "source": [
        "------------------------------------------------------------------------\n",
        "\n",
        "## **Norm dan Jarak**\n",
        "\n",
        "### **Tinjauan Singkat Norm Vektor**\n",
        "\n",
        "-   **Norm vektor** mengembalikan magnitudo (panjang) dari sebuah vektor.\n",
        "\n",
        "-   Misalkan:\n",
        "\n",
        "    $$\n",
        "    \\mathbf{x} = [-3, 4]\n",
        "    $$\n",
        "\n",
        "    Maka norm $\\mathbf{x}$ (Euclidean norm) adalah:\n",
        "\n",
        "    $$\n",
        "    \\|\\mathbf{x}\\|_2 = 5\n",
        "    $$\n",
        "\n",
        "-   Notasi $\\|\\ . \\|\\_2$ menandakan *Euclidean norm* atau *L2 norm*.\\\n",
        "\n",
        "-   Ada banyak jenis norm, namun dua yang paling populer adalah:\n",
        "\n",
        "    1.  **Euclidean Norm (L2)**\\\n",
        "    2.  **Manhattan Norm (L1)**\n",
        "\n",
        "<p align=\"center\">\n",
        "\n",
        "<img src=\"https://taketake2.com/ne1615_en.png\" alt=\"Contour L1 and L2 Norm\" width=\"300\"/>\n",
        "\n",
        "</p>\n",
        "\n",
        "### **Tinjauan Singkat Jarak (Distance)**\n",
        "\n",
        "-   **Jarak** mengukur perbedaan atau ketidaksamaan antara dua titik (vektor).\\\n",
        "-   Beberapa properti jarak:\n",
        "    1.  \\$ d(A, B) = d(B, A) \\$\\\n",
        "    2.  \\$ d(A, A) = 0 \\$\\\n",
        "    3.  \\$ d(A, B) = 0 \\$ jika dan hanya jika \\$ A = B \\$\\\n",
        "    4.  \\$ d(A, B) \\leq d(A, C) + d(B, C) \\$ (*triangular inequality*)\\\n",
        "-   Ada banyak metrik jarak tergantung kebutuhan dan konteks.\n",
        "\n",
        "<p align=\"center\">\n",
        "\n",
        "<img src=\"https://miro.medium.com/v2/resize:fit:720/format:webp/1*vAtQZbROuTdp36aQQ8cqBA.png\" alt=\"Distance Metrics\" width=\"400\"/>\n",
        "\n",
        "</p>\n",
        "\n",
        "### **Norm dan Jarak dengan NumPy**\n",
        "\n",
        "| Sintaks | Deskripsi | Contoh Penggunaan |\n",
        "|:--:|:---|:---|\n",
        "| `np.linalg.norm()` | Menghitung norm (Euclidean atau Manhattan) dari vektor | `np.linalg.norm([1, 2, 3], ord=2)` |\n",
        "\n",
        "-   Untuk norm lain (misalnya L1), kita bisa gunakan `ord=1` atau menghitungnya sendiri dengan rumus.\n",
        "\n",
        "------------------------------------------------------------------------\n",
        "\n",
        "### **Latihan**\n",
        "\n",
        "1.  Hitung **Euclidean norm** dari vektor $\\mathbf{x}$ (secara manual, lalu gunakan NumPy).\\\n",
        "    $$\n",
        "    \\mathbf{x} = [1, 2, 3, 4, 5, 6, 7]\n",
        "    $$\n",
        "\n",
        "    **Catatan**\\\n",
        "    $$\n",
        "    \\|\\mathbf{x}\\|_2 = \\sqrt{ \\sum_{i=1}^{n} x_i^2 }\n",
        "    $$"
      ]
    },
    {
      "cell_type": "code",
      "execution_count": null,
      "metadata": {},
      "outputs": [],
      "source": []
    },
    {
      "cell_type": "code",
      "execution_count": null,
      "metadata": {},
      "outputs": [],
      "source": []
    },
    {
      "cell_type": "code",
      "execution_count": null,
      "metadata": {},
      "outputs": [],
      "source": []
    },
    {
      "cell_type": "markdown",
      "metadata": {},
      "source": [
        "2.  Hitung **Manhattan norm** dari vektor $\\mathbf{x}$ (secara manual, lalu gunakan NumPy).\\\n",
        "    $$\n",
        "    \\mathbf{x} = [1, 2, 3, 4, 5, 6, 7]\n",
        "    $$\n",
        "\n",
        "    **Catatan**\\\n",
        "    $$\n",
        "    \\|\\mathbf{x}\\|_1 = \\sum_{i=1}^{n} |x_i|\n",
        "    $$"
      ]
    },
    {
      "cell_type": "code",
      "execution_count": null,
      "metadata": {},
      "outputs": [],
      "source": []
    },
    {
      "cell_type": "code",
      "execution_count": null,
      "metadata": {},
      "outputs": [],
      "source": []
    },
    {
      "cell_type": "markdown",
      "metadata": {},
      "source": [
        "3.  Diberikan dua vektor $\\mathbf{x}$ dan $\\mathbf{y}$. Hitung **Manhattan distance** di antara keduanya: $$\n",
        "    \\mathbf{x} = [3, 0] \\quad;\\quad\n",
        "    \\mathbf{y} = [0, 4]\n",
        "    $$"
      ]
    },
    {
      "cell_type": "code",
      "execution_count": null,
      "metadata": {},
      "outputs": [],
      "source": []
    },
    {
      "cell_type": "markdown",
      "metadata": {},
      "source": [
        "4.  Diberikan dua vektor $\\mathbf{x}$ dan $\\mathbf{y}$. Hitung **Euclidean distance** di antara keduanya: $$\n",
        "    \\mathbf{x} = [3, 0] \\quad;\\quad\n",
        "    \\mathbf{y} = [0, 4]\n",
        "    $$"
      ]
    },
    {
      "cell_type": "code",
      "execution_count": null,
      "metadata": {},
      "outputs": [],
      "source": []
    },
    {
      "cell_type": "markdown",
      "metadata": {},
      "source": [
        "## Referensi\n",
        "\n",
        "-   https://rpubs.com/pjozefek/659184\n",
        "-   Pacman AI - Sekolah Data"
      ]
    }
  ],
  "metadata": {
    "kernelspec": {
      "display_name": "Python 3 (ipykernel)",
      "language": "python",
      "name": "python3",
      "path": "C:\\Users\\derik\\AppData\\Roaming\\Python\\share\\jupyter\\kernels\\python3"
    }
  },
  "nbformat": 4,
  "nbformat_minor": 4
}
